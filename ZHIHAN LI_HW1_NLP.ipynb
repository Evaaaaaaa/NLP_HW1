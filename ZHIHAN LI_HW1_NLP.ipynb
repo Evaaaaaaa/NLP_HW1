{
 "cells": [
  {
   "cell_type": "markdown",
   "metadata": {},
   "source": [
    "# Zhihan Li Homework 1\n",
    "\n",
    "\n",
    "1. Tokenization schemes of the dataset: <br />\n",
    "1.1 Bag-of-words with English tokenizer 'en_core_web_sm'.<br />\n",
    "1.2 Pre-processing by deleting line break '< br />' on Model 1.0. <br />\n",
    "1.3 Removing web URLs using regular expression.\n",
    "\n",
    "\n",
    "2. Model hyperparameters: Vary n for n-gram (n=1, 2, 3, 4), vocabulary size and embedding size. <br />\n",
    "Model from 1.2 is the model for n=1.<br />\n",
    "2.1 Bigram<br />\n",
    "2.2 Trigram<br />\n",
    "2.3 Quadrigram<br />\n",
    "\n",
    "\n",
    "3. Optimization hyperparameters: <br />\n",
    "3.1 Optimizer itself (SGD vs Adam)<br />\n",
    "3.2 Change learning rate to be 0.05, 0.1. <br />\n",
    "3.3 Use linear annealing of learning rate (learning rate is reduced linearly over the course of training). <br />\n",
    "\n",
    "Please put this file in the aclImdb folder."
   ]
  },
  {
   "cell_type": "code",
   "execution_count": 1,
   "metadata": {},
   "outputs": [],
   "source": [
    "import random\n",
    "from sklearn.utils import shuffle\n",
    "import glob\n",
    "import pandas as pd\n",
    "import re"
   ]
  },
  {
   "cell_type": "markdown",
   "metadata": {},
   "source": [
    "Import and preprocessing data."
   ]
  },
  {
   "cell_type": "code",
   "execution_count": 3,
   "metadata": {},
   "outputs": [],
   "source": [
    "test_neg_files = glob.glob(\"test/neg/*.txt\")\n",
    "test_pos_files = glob.glob(\"test/pos/*.txt\")\n",
    "test_un_files = glob.glob(\"test/unsup/*.txt\")    \n",
    "\n",
    "train_neg_files = glob.glob(\"train/neg/*.txt\")\n",
    "train_pos_files = glob.glob(\"train/pos/*.txt\")\n",
    "train_un_files = glob.glob(\"train/unsup/*.txt\")\n",
    "\n",
    "# read list of files to list of strings \n",
    "def to_str(list, num):\n",
    "    data = []\n",
    "    target = []\n",
    "    for file in list:\n",
    "        with open(file, 'r') as myfile:\n",
    "            text = myfile.read()\n",
    "            # for 1.3\n",
    "            text = re.sub(r'^https?:\\/\\/.*[\\r\\n]*\\/', '', text, flags=re.MULTILINE) \n",
    "            # for 1.2\n",
    "            text = text.replace('<br />','')\n",
    "            text = text.replace('(',' ')\n",
    "            text = text.replace(')',' ')\n",
    "            # for 1.1\n",
    "            data.append(text) \n",
    "            # data.append(myfile.read()) for 1.1\n",
    "    target = [num] * len(data)\n",
    "    df = pd.DataFrame({'data': data, 'target': target})\n",
    "    return df\n",
    "\n",
    "# 0 is neg, 1 is pos, 2 is unsup\n",
    "train_neg = to_str(train_neg_files,0)\n",
    "train_pos = to_str(train_pos_files,1)\n",
    "train_un = to_str(train_un_files,2)\n",
    "test_neg = to_str(test_neg_files,0)\n",
    "test_pos = to_str(test_pos_files,1)\n",
    "test_un = to_str(test_un_files,2)\n",
    "\n",
    "# 75000 in total\n",
    "train_val = pd.concat([train_neg, train_pos, train_un], ignore_index=True)\n",
    "train_val = train_val.sample(frac=1).reset_index(drop=True)\n",
    "\n",
    "train_split = 55000\n",
    "train_raw = train_val[:train_split]\n",
    "val_raw = train_val[train_split:]\n",
    "\n",
    "test_raw = pd.concat([test_neg, test_pos, test_un], ignore_index=True)\n",
    "test_raw = test_raw.sample(frac=1).reset_index(drop=True)"
   ]
  },
  {
   "cell_type": "code",
   "execution_count": 4,
   "metadata": {},
   "outputs": [],
   "source": [
    "# train = train_raw[:1000]\n",
    "# val = val_raw[:250]\n",
    "# test = test_raw[:200]\n",
    "train = train_raw\n",
    "val = val_raw\n",
    "test = test_raw"
   ]
  },
  {
   "cell_type": "code",
   "execution_count": 5,
   "metadata": {},
   "outputs": [],
   "source": [
    "# !pip install spacy\n",
    "# !python -m spacy download en_core_web_sm\n",
    "\n",
    "import spacy\n",
    "import string\n",
    "\n",
    "# Load English tokenizer, tagger, parser, NER and word vectors\n",
    "tokenizer = spacy.load('en_core_web_sm')\n",
    "punctuations = string.punctuation\n",
    "\n",
    "# lowercase and remove punctuation \n",
    "def tokenize_grams(sample):\n",
    "    list2 = []\n",
    "    list3 = []\n",
    "    list4 = []\n",
    "    a = tokenize(sample)\n",
    "    list1 = a\n",
    "    for j in range(len(a)-3):\n",
    "            list2.append(a[j] + \" \" +a[j+1])\n",
    "            list3.append(a[j] + \" \" +a[j+1]+\" \"+ a[j+2])\n",
    "            list4.append(a[j]+\" \"+a[j+1]+\" \"+ a[j+2]+\" \"+a[j+3])\n",
    "    list2.append(a[len(a)-2]+\" \"+ a[len(a)-1])\n",
    "    list2.append(a[len(a)-3]+\" \"+a[len(a)-2])\n",
    "    list3.append(a[len(a)-3]+\" \"+a[len(a)-2]+\" \"+a[len(a)-1])\n",
    "    return list1, list2, list3, list4\n",
    "    \n",
    "def tokenize(sent):\n",
    "    tokens = tokenizer(sent)\n",
    "    return [token.text.lower() for token in tokens if (token.text not in punctuations)]"
   ]
  },
  {
   "cell_type": "markdown",
   "metadata": {},
   "source": [
    "Tokenize train/val/test datasets"
   ]
  },
  {
   "cell_type": "code",
   "execution_count": 4,
   "metadata": {},
   "outputs": [],
   "source": [
    "# This is the code cell that tokenizes train/val/test datasets\n",
    "# However it takes about 15-20 minutes to run it\n",
    "# For convinience we have provided the preprocessed datasets\n",
    "# Please see the next code cell\n",
    "\n",
    "import pickle as pkl\n",
    "\n",
    "def tokenize_dataset(dataset):\n",
    "    token_dataset1 = []\n",
    "    token_dataset2 = []\n",
    "    token_dataset3 = []\n",
    "    token_dataset4 = []\n",
    "    # we are keeping track of all tokens in dataset \n",
    "    # in order to create vocabulary later\n",
    "    all_tokens1= [] \n",
    "    all_tokens2= []\n",
    "    all_tokens3= [] \n",
    "    all_tokens4= [] \n",
    "\n",
    "    for sample in dataset:\n",
    "        \n",
    "#         sample2 = get_ngram(sample,i)\n",
    "#         tokens = lower_case_remove_punc(sample_2)\n",
    "#         token_dataset[i].append(tokens)\n",
    "       \n",
    "        # tokens is a list of words       \n",
    "        tokens1,tokens2,tokens3,tokens4 = tokenize_grams(sample)\n",
    "        token_dataset1.append(tokens1)\n",
    "        token_dataset2.append(tokens2)\n",
    "        token_dataset3.append(tokens3)\n",
    "        token_dataset4.append(tokens4)\n",
    "        \n",
    "        all_tokens1 += tokens1\n",
    "        all_tokens2 += tokens2\n",
    "        all_tokens3 += tokens3\n",
    "        all_tokens4 += tokens4\n",
    "\n",
    "    return token_dataset1,token_dataset2,token_dataset3,token_dataset4, all_tokens1,all_tokens2,all_tokens3,all_tokens4\n",
    "\n",
    "# val set tokens\n",
    "print (\"Tokenizing val data\")\n",
    "vds1,vds2,vds3,vds4, va1,va2,va3,va4 = tokenize_dataset(val['data'].tolist())\n",
    "print (\"Tokenizing test data\")\n",
    "tds1,tds2,tds3,tds4, ta1,ta2,ta3,ta4 = tokenize_dataset(test['data'].tolist())\n",
    "print (\"Tokenizing train data\")\n",
    "trds1,trds2, trds3, trds4, tra1,tra2,tra3,tra4 = tokenize_dataset(train['data'].tolist())"
   ]
  },
  {
   "cell_type": "markdown",
   "metadata": {},
   "source": [
    "Specify the number of grams we need: "
   ]
  },
  {
   "cell_type": "code",
   "execution_count": 9,
   "metadata": {},
   "outputs": [],
   "source": [
    "n=1\n",
    "if n==1:\n",
    "    val_data_tokens, _ = vds1, va1\n",
    "    test_data_tokens, _  = tds1, ta1\n",
    "    train_data_tokens, all_train_tokens = trds1, tra1\n",
    "if n==2:\n",
    "    val_data_tokens, _ = vds2, va2\n",
    "    test_data_tokens, _  = tds2, ta2\n",
    "    train_data_tokens, all_train_tokens = trds2, tra2\n",
    "if n==3:\n",
    "    val_data_tokens, _ = vds3, va3\n",
    "    test_data_tokens, _  = tds3, ta3\n",
    "    train_data_tokens, all_train_tokens = trds3, tra3\n",
    "if n==4:\n",
    "    val_data_tokens, _ = vds4, va4\n",
    "    test_data_tokens, _  = tds4, ta4\n",
    "    train_data_tokens, all_train_tokens = trds4, tra4\n",
    "\n",
    "# pkl.dump(val_data_tokens, open(\"val_data_tokens.p\", \"wb\"))\n",
    "# pkl.dump(test_data_tokens, open(\"test_data_tokens.p\", \"wb\"))\n",
    "# pkl.dump(train_data_tokens, open(\"train_data_tokens.p\", \"wb\"))\n",
    "# pkl.dump(all_train_tokens, open(\"all_train_tokens.p\", \"wb\"))"
   ]
  },
  {
   "cell_type": "markdown",
   "metadata": {},
   "source": [
    "Create the vocabulary of most common 10,000 tokens in the training set."
   ]
  },
  {
   "cell_type": "code",
   "execution_count": 21,
   "metadata": {},
   "outputs": [],
   "source": [
    "from collections import Counter\n",
    "\n",
    "# max_vocab_size = 5000\n",
    "max_vocab_size = 500\n",
    "# save index 0 for unk and 1 for pad\n",
    "PAD_IDX = 0\n",
    "UNK_IDX = 1\n",
    "\n",
    "def build_vocab(all_tokens):\n",
    "    # Returns:\n",
    "    # id2token: list of tokens, where id2token[i] returns token that corresponds to token i\n",
    "    # token2id: dictionary where keys represent tokens and corresponding values represent indices\n",
    "    token_counter = Counter(all_tokens)\n",
    "    vocab, count = zip(*token_counter.most_common(max_vocab_size))\n",
    "    id2token = list(vocab)\n",
    "    # dont know how it works\n",
    "    token2id = dict(zip(vocab, range(2,2+len(vocab)))) \n",
    "    id2token = ['<pad>', '<unk>'] + id2token\n",
    "    token2id['<pad>'] = PAD_IDX \n",
    "    token2id['<unk>'] = UNK_IDX\n",
    "    return token2id, id2token\n",
    "\n",
    "token2id, id2token = build_vocab(all_train_tokens)"
   ]
  },
  {
   "cell_type": "code",
   "execution_count": 6,
   "metadata": {},
   "outputs": [],
   "source": [
    "# convert token to id in the dataset\n",
    "def token2index_dataset(tokens_data):\n",
    "    indices_data = []\n",
    "    for tokens in tokens_data:\n",
    "        index_list = [token2id[token] if token in token2id else UNK_IDX for token in tokens]\n",
    "        indices_data.append(index_list)\n",
    "    return indices_data\n",
    "\n",
    "train_data_indices = token2index_dataset(train_data_tokens)\n",
    "val_data_indices = token2index_dataset(val_data_tokens)\n",
    "test_data_indices = token2index_dataset(test_data_tokens)\n",
    "\n",
    "# double checking\n",
    "print (\"Train dataset size is {}\".format(len(train_data_indices)))\n",
    "print (\"Val dataset size is {}\".format(len(val_data_indices)))\n",
    "print (\"Test dataset size is {}\".format(len(test_data_indices)))"
   ]
  },
  {
   "cell_type": "markdown",
   "metadata": {},
   "source": [
    "Create PyTorch DataLoader"
   ]
  },
  {
   "cell_type": "code",
   "execution_count": 23,
   "metadata": {},
   "outputs": [],
   "source": [
    "MAX_SENTENCE_LENGTH = 100\n",
    "\n",
    "import numpy as np\n",
    "import torch\n",
    "from torch.utils.data import Dataset\n",
    "\n",
    "class FeedsGroupDataset(Dataset):\n",
    "    \"\"\"\n",
    "    Class that represents a train/validation/test dataset that's readable for PyTorch\n",
    "    Note that this class inherits torch.utils.data.Dataset\n",
    "    \"\"\"\n",
    "    \n",
    "    def __init__(self, data_list, target_list):\n",
    "        \"\"\"\n",
    "        @param data_list: list of feedsgroup tokens \n",
    "        @param target_list: list of feedsgroup targets \n",
    "\n",
    "        \"\"\"\n",
    "        self.data_list = data_list\n",
    "        self.target_list = target_list\n",
    "        assert (len(self.data_list) == len(self.target_list))\n",
    "\n",
    "    def __len__(self):\n",
    "        return len(self.data_list)\n",
    "        \n",
    "    def __getitem__(self, key):\n",
    "        \"\"\"\n",
    "        Triggered when you call dataset[i]\n",
    "        \"\"\"\n",
    "        \n",
    "        token_idx = self.data_list[key][:MAX_SENTENCE_LENGTH]\n",
    "        label = self.target_list[key]\n",
    "\n",
    "        return [token_idx, len(token_idx), label]\n",
    "\n",
    "def feedsgroup_collate_func(batch):\n",
    "    \"\"\"\n",
    "    Customized function for DataLoader that dynamically pads the batch so that all \n",
    "    data have the same length\n",
    "    \"\"\"\n",
    "    data_list = []\n",
    "    label_list = []\n",
    "    length_list = []\n",
    "    #print(\"collate batch: \", batch[0][0])\n",
    "    #batch[0][0] = batch[0][0][:MAX_SENTENCE_LENGTH]\n",
    "    for datum in batch:\n",
    "        label_list.append(datum[2])\n",
    "        length_list.append(datum[1])\n",
    "    # padding\n",
    "    for datum in batch:\n",
    "        padded_vec = np.pad(np.array(datum[0]), \n",
    "                                pad_width=((0,MAX_SENTENCE_LENGTH-datum[1])), \n",
    "                                mode=\"constant\", constant_values=0)\n",
    "        data_list.append(padded_vec)\n",
    "    return [torch.from_numpy(np.array(data_list)), torch.LongTensor(length_list), torch.LongTensor(label_list)]\n",
    "\n",
    "\n",
    "BATCH_SIZE = 32\n",
    "train_dataset = FeedsGroupDataset(train_data_indices, train['target'].tolist())\n",
    "train_loader = torch.utils.data.DataLoader(dataset=train_dataset, \n",
    "                                           batch_size=BATCH_SIZE,\n",
    "                                           collate_fn=feedsgroup_collate_func,\n",
    "                                           shuffle=True)\n",
    "\n",
    "val_dataset = FeedsGroupDataset(val_data_indices, val['target'].tolist())\n",
    "val_loader = torch.utils.data.DataLoader(dataset=val_dataset, \n",
    "                                           batch_size=BATCH_SIZE,\n",
    "                                           collate_fn=feedsgroup_collate_func,\n",
    "                                           shuffle=True)\n",
    "\n",
    "test_dataset = FeedsGroupDataset(test_data_indices, test['target'].tolist())\n",
    "test_loader = torch.utils.data.DataLoader(dataset=test_dataset, \n",
    "                                           batch_size=BATCH_SIZE,\n",
    "                                           collate_fn=feedsgroup_collate_func,\n",
    "                                           shuffle=False)\n",
    "\n",
    "# for i, (data, lengths, labels) in enumerate(train_loader):\n",
    "#    print (data)\n",
    "#    print (type(labels[0]))\n",
    "#    break"
   ]
  },
  {
   "cell_type": "markdown",
   "metadata": {},
   "source": [
    "Define Bag-of-n-grams model in PyTorch"
   ]
  },
  {
   "cell_type": "code",
   "execution_count": 24,
   "metadata": {},
   "outputs": [],
   "source": [
    "# First import torch related libraries\n",
    "import torch\n",
    "import torch.nn as nn\n",
    "import torch.nn.functional as F\n",
    "\n",
    "class BagOfWords(nn.Module):\n",
    "    \"\"\"\n",
    "    BagOfWords classification model\n",
    "    \"\"\"\n",
    "    def __init__(self, vocab_size, emb_dim):\n",
    "        \"\"\"\n",
    "        @param vocab_size: size of the vocabulary. \n",
    "        @param emb_dim: size of the word embedding\n",
    "        \"\"\"\n",
    "        super(BagOfWords, self).__init__()\n",
    "        # pay attention to padding_idx \n",
    "        self.embed = nn.Embedding(vocab_size, emb_dim, padding_idx=0)\n",
    "        self.linear = nn.Linear(emb_dim,3)\n",
    "    \n",
    "    def forward(self, data, length):\n",
    "        \"\"\"\n",
    "        \n",
    "        @param data: matrix of size (batch_size, max_sentence_length). Each row in data represents a \n",
    "            review that is represented using n-gram index. Note that they are padded to have same length.\n",
    "        @param length: an int tensor of size (batch_size), which represents the non-trivial (excludes padding)\n",
    "            length of each sentences in the data.\n",
    "        \"\"\"\n",
    "        out = self.embed(data)\n",
    "        out = torch.sum(out, dim=1)\n",
    "        out /= length.view(length.size()[0],1).expand_as(out).float()\n",
    "     \n",
    "        # return logits\n",
    "        out = self.linear(out.float())\n",
    "        return out\n",
    "\n",
    "emb_dim = 100\n",
    "model = BagOfWords(len(id2token), emb_dim)"
   ]
  },
  {
   "cell_type": "markdown",
   "metadata": {},
   "source": [
    "Train the model and test on it. Here we have the option to modify the learning rate and optimizer we are going to use."
   ]
  },
  {
   "cell_type": "code",
   "execution_count": 7,
   "metadata": {},
   "outputs": [],
   "source": [
    "learning_rate = 0.01\n",
    "# learning_rates = 0.2\n",
    "# learning_rate = 0.05\n",
    "\n",
    "num_epochs = 10 # number epoch to train\n",
    "decay = learning_rate / num_epochs\n",
    "\n",
    "# Criterion and Optimizer\n",
    "criterion = torch.nn.CrossEntropyLoss()  \n",
    "# using SGD\n",
    "# optimizer = torch.optim.SGD(model.parameters(), lr=learning_rate)\n",
    "# using Adam\n",
    "# optimizer = torch.optim.Adam(model.parameters(), lr=learning_rate)\n",
    "\n",
    "# Function for testing the model\n",
    "def test_model(loader, model):\n",
    "    \"\"\"\n",
    "    Help function that tests the model's performance on a dataset\n",
    "    @param: loader - data loader for the dataset to test against\n",
    "    \"\"\"\n",
    "    correct = 0\n",
    "    total = 0\n",
    "    model.eval()\n",
    "    for data, lengths, labels in loader:\n",
    "        data_batch, length_batch, label_batch = data, lengths, labels\n",
    "        outputs = F.softmax(model(data_batch, length_batch), dim=1)\n",
    "        predicted = outputs.max(1, keepdim=True)[1]\n",
    "        \n",
    "        total += labels.size(0)\n",
    "        # counts how many of them are correct \n",
    "        correct += predicted.eq(labels.view_as(predicted)).sum().item()\n",
    "    return (100 * correct / total)\n",
    "\n",
    "for epoch in range(num_epochs):\n",
    "    # linear annealing of learning rate\n",
    "    learning_rate = learning_rate * 1/(1 + decay * epoch)\n",
    "    print(learning_rate)\n",
    "    for i, (data, lengths, labels) in enumerate(train_loader):\n",
    "        model.train()\n",
    "        data_batch, length_batch, label_batch = data, lengths, labels\n",
    "        optimizer.zero_grad()\n",
    "        # forward propagation\n",
    "        outputs = model(data_batch, length_batch)\n",
    "        loss = criterion(outputs, label_batch)\n",
    "        loss.backward()\n",
    "        optimizer.step()\n",
    "        # validate every 100 iterations\n",
    "#         if i > 0 and i % 100 == 0:\n",
    "#             # validate\n",
    "    val_acc = test_model(val_loader, model)\n",
    "    print('Epoch: [{}/{}], Step: [{}/{}], Validation Acc: {}'.format( \n",
    "                       epoch+1, num_epochs, i+1, len(train_loader), val_acc))"
   ]
  },
  {
   "cell_type": "code",
   "execution_count": 14,
   "metadata": {
    "scrolled": true
   },
   "outputs": [],
   "source": [
    "print(\"After training for {} epochs\".format(num_epochs))\n",
    "print(\"Val Acc {}\".format(test_model(val_loader, model)))\n",
    "print(\"Test Acc {}\".format(test_model(test_loader, model)))"
   ]
  },
  {
   "cell_type": "code",
   "execution_count": 4,
   "metadata": {},
   "outputs": [
    {
     "data": {
      "image/png": "[encoded data removed]",
      "text/plain": [
       "<Figure size 432x288 with 1 Axes>"
      ]
     },
     "metadata": {
      "needs_background": "light"
     },
     "output_type": "display_data"
    }
   ],
   "source": [
    "import matplotlib.pyplot as plt\n",
    "# using Adam, max_vocab_size = 10000, emb_dim = 100, learning rate = linear annealing\n",
    "val_n = [64.515,59.19,60.3,54.64]\n",
    "n = [1,2,3,4]\n",
    "plt.plot(n, val_n)\n",
    "plt.title('Learning Curve of Vary n for n-gram')\n",
    "plt.ylabel('Validation Score')\n",
    "plt.show()"
   ]
  },
  {
   "cell_type": "code",
   "execution_count": 13,
   "metadata": {},
   "outputs": [
    {
     "data": {
      "image/png": "[encoded data removed]",
      "text/plain": [
       "<Figure size 432x288 with 1 Axes>"
      ]
     },
     "metadata": {
      "needs_background": "light"
     },
     "output_type": "display_data"
    }
   ],
   "source": [
    "# Tokenization schemes\n",
    "# Vocabulary size\n",
    "val_vocab = [ 56.32,62.8,64.515, 69.65]\n",
    "vocab_size = [1000, 5000, 10000, 20000]\n",
    "plt.plot(vocab_size, val_vocab)\n",
    "plt.title('Learning Curve of Vocabulary Size')\n",
    "plt.ylabel('Validation Score')\n",
    "plt.show()"
   ]
  },
  {
   "cell_type": "code",
   "execution_count": 12,
   "metadata": {},
   "outputs": [
    {
     "data": {
      "image/png": "[encoded data removed]",
      "text/plain": [
       "<Figure size 432x288 with 1 Axes>"
      ]
     },
     "metadata": {
      "needs_background": "light"
     },
     "output_type": "display_data"
    }
   ],
   "source": [
    "# Embedding size\n",
    "val_emb = [ 62.755,64.515,62.31,60.58]\n",
    "emb_size = [50,100,200,300]\n",
    "plt.plot(emb_size, val_emb)\n",
    "plt.title('Learning Curve of Embedding Size')\n",
    "plt.ylabel('Validation Score')\n",
    "plt.show()"
   ]
  },
  {
   "cell_type": "code",
   "execution_count": 66,
   "metadata": {},
   "outputs": [
    {
     "data": {
      "image/png": "[encoded data removed]",
      "text/plain": [
       "<Figure size 432x288 with 1 Axes>"
      ]
     },
     "metadata": {
      "needs_background": "light"
     },
     "output_type": "display_data"
    }
   ],
   "source": [
    "# Optimizer (SGD v.s. Adam)\n",
    "val_opt = [65.91, 64.515]\n",
    "opts = [\"SGD\",\"Adam\"]\n",
    "plt.scatter(opts, val_opt)\n",
    "plt.title('Learning Curve of Optimizer')\n",
    "plt.ylabel('Validation Score')\n",
    "plt.show()"
   ]
  },
  {
   "cell_type": "code",
   "execution_count": 3,
   "metadata": {},
   "outputs": [
    {
     "data": {
      "image/png": "[encoded data removed]",
      "text/plain": [
       "<Figure size 432x288 with 1 Axes>"
      ]
     },
     "metadata": {
      "needs_background": "light"
     },
     "output_type": "display_data"
    }
   ],
   "source": [
    "# learning rate\n",
    "val_lr = [63.87,59.62,60.43,64.515]\n",
    "lr_size = [0.01,0.05,0.1,'LA']\n",
    "plt.plot(lr_size, val_lr)\n",
    "plt.title('Learning Curve of Learning Rate')\n",
    "plt.ylabel('Validation Score')\n",
    "plt.show()"
   ]
  },
  {
   "cell_type": "code",
   "execution_count": null,
   "metadata": {},
   "outputs": [],
   "source": []
  }
 ],
 "metadata": {
  "kernelspec": {
   "display_name": "Python 3",
   "language": "python",
   "name": "python3"
  },
  "language_info": {
   "codemirror_mode": {
    "name": "ipython",
    "version": 3
   },
   "file_extension": ".py",
   "mimetype": "text/x-python",
   "name": "python",
   "nbconvert_exporter": "python",
   "pygments_lexer": "ipython3",
   "version": "3.7.0"
  }
 },
 "nbformat": 4,
 "nbformat_minor": 2
}
